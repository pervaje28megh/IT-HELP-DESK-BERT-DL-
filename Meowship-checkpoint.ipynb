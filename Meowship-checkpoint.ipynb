{
 "cells": [
  {
   "cell_type": "code",
   "execution_count": 6,
   "id": "77190071",
   "metadata": {},
   "outputs": [
    {
     "data": {
      "text/plain": [
       "(8040, 1)"
      ]
     },
     "execution_count": 6,
     "metadata": {},
     "output_type": "execute_result"
    }
   ],
   "source": [
    "import warnings\n",
    "#to suppress the warnings\n",
    "warnings.filterwarnings(\"ignore\")\n",
    "import pandas as pd\n",
    "main_df = pd.read_excel(r'C:\\Users\\DELL\\OneDrive\\Desktop\\Internship\\df_withoutdup_final_origi1.xlsx')\n",
    "\n",
    "# Adding a column in the dataframe which concatenates the review's title and body.\n",
    "main_df_new = pd.DataFrame()\n",
    "main_df_new[\"combined data\"] = \"-\"\n",
    "main_df_new[\"combined data\"] = main_df[\"Subject\"] + \" \" + main_df[\"Message\"]\n",
    "main_df_new.head()\n",
    "main_df_new.shape\n"
   ]
  },
  {
   "cell_type": "code",
   "execution_count": 7,
   "id": "744f6874",
   "metadata": {},
   "outputs": [
    {
     "name": "stdout",
     "output_type": "stream",
     "text": [
      "Requirement already satisfied: contractions in c:\\programdata\\anaconda3\\lib\\site-packages (0.1.72)\n",
      "Requirement already satisfied: textsearch>=0.0.21 in c:\\programdata\\anaconda3\\lib\\site-packages (from contractions) (0.0.24)\n",
      "Requirement already satisfied: pyahocorasick in c:\\programdata\\anaconda3\\lib\\site-packages (from textsearch>=0.0.21->contractions) (1.4.4)\n",
      "Requirement already satisfied: anyascii in c:\\programdata\\anaconda3\\lib\\site-packages (from textsearch>=0.0.21->contractions) (0.3.1)\n",
      "Requirement already satisfied: nltk in c:\\programdata\\anaconda3\\lib\\site-packages (3.6.5)\n",
      "Requirement already satisfied: click in c:\\programdata\\anaconda3\\lib\\site-packages (from nltk) (8.0.3)\n",
      "Requirement already satisfied: joblib in c:\\programdata\\anaconda3\\lib\\site-packages (from nltk) (1.1.0)\n",
      "Requirement already satisfied: regex>=2021.8.3 in c:\\programdata\\anaconda3\\lib\\site-packages (from nltk) (2021.8.3)\n",
      "Requirement already satisfied: tqdm in c:\\programdata\\anaconda3\\lib\\site-packages (from nltk) (4.62.3)\n",
      "Requirement already satisfied: colorama in c:\\programdata\\anaconda3\\lib\\site-packages (from click->nltk) (0.4.4)\n",
      "Requirement already satisfied: autocorrect in c:\\programdata\\anaconda3\\lib\\site-packages (2.6.1)\n"
     ]
    }
   ],
   "source": [
    "!pip install contractions\n",
    "!pip install nltk\n",
    "!pip install autocorrect"
   ]
  },
  {
   "cell_type": "code",
   "execution_count": 8,
   "id": "905519a4",
   "metadata": {},
   "outputs": [
    {
     "name": "stderr",
     "output_type": "stream",
     "text": [
      "[nltk_data] Downloading package punkt to\n",
      "[nltk_data]     C:\\Users\\DELL\\AppData\\Roaming\\nltk_data...\n",
      "[nltk_data]   Package punkt is already up-to-date!\n",
      "[nltk_data] Downloading package stopwords to\n",
      "[nltk_data]     C:\\Users\\DELL\\AppData\\Roaming\\nltk_data...\n",
      "[nltk_data]   Package stopwords is already up-to-date!\n",
      "[nltk_data] Downloading package wordnet to\n",
      "[nltk_data]     C:\\Users\\DELL\\AppData\\Roaming\\nltk_data...\n",
      "[nltk_data]   Package wordnet is already up-to-date!\n",
      "[nltk_data] Downloading package omw-1.4 to\n",
      "[nltk_data]     C:\\Users\\DELL\\AppData\\Roaming\\nltk_data...\n",
      "[nltk_data]   Package omw-1.4 is already up-to-date!\n"
     ]
    },
    {
     "data": {
      "text/plain": [
       "True"
      ]
     },
     "execution_count": 8,
     "metadata": {},
     "output_type": "execute_result"
    }
   ],
   "source": [
    "import string\n",
    "import nltk\n",
    "import re\n",
    "from nltk.stem import WordNetLemmatizer\n",
    "from string import punctuation\n",
    "from nltk.corpus import stopwords\n",
    "\n",
    "nltk.download('punkt')\n",
    "nltk.download('stopwords')\n",
    "nltk.download('wordnet')\n",
    "nltk.download('omw-1.4')"
   ]
  },
  {
   "cell_type": "code",
   "execution_count": 9,
   "id": "98567b07",
   "metadata": {},
   "outputs": [],
   "source": [
    "#Function to split a paragraph into sentences.\n",
    "def sent_tokens_func(text):\n",
    "  return nltk.sent_tokenize(text)\n",
    "\n",
    "#Function to split a given sentence into words.\n",
    "def word_tokens_func(text):\n",
    "  return nltk.word_tokenize(text)  \n",
    "\n",
    "#Function to convert the text into Lowercase letters\n",
    "def to_lower(text):\n",
    "  if not isinstance(text,str):\n",
    "    text = str(text)\n",
    "  return text.lower()\n",
    "\n",
    "#Function to omit the numbers from the text\n",
    "def number_omit_func(text):\n",
    "  output = ''.join(c for c in text if not c.isdigit())\n",
    "  return output\n",
    "\n",
    "#Function to omit the punctuation marks from the text\n",
    "def remove_punctuation(text):\n",
    "  return ''.join(c for c in text if c not in punctuation) \n",
    "\n",
    "#Function to remove the stopwords from the given text using nltk\n",
    "def stopword_remove_func(sentence):\n",
    "  stop_words = stopwords.words('english')\n",
    "  return ' '.join([w for w in nltk.word_tokenize(sentence) if not w in stop_words]) "
   ]
  },
  {
   "cell_type": "code",
   "execution_count": 10,
   "id": "ee3a2d16",
   "metadata": {},
   "outputs": [],
   "source": [
    "#Function to perform lemmatization for the text using WordNet Lemmatizer\n",
    "def lemmatize(text):\n",
    "          wordnet_lemmatizer = WordNetLemmatizer()\n",
    "          lemmatized_word = [wordnet_lemmatizer.lemmatize(word)for word in nltk.word_tokenize(text)]\n",
    "          return \" \".join(lemmatized_word)\n",
    "\n",
    "# Function to call other sub functions such as number_omit,remove_punctuation etc.,\n",
    "def preprocess(text):\n",
    "        lower_text = to_lower(text)\n",
    "        sentence_tokens = sent_tokens_func(lower_text)\n",
    "        word_list = []\n",
    "        for each_sent in sentence_tokens:\n",
    "            lemmatizzed_sent = lemmatize(each_sent)\n",
    "            clean_text = number_omit_func(lemmatizzed_sent)\n",
    "            clean_text = remove_punctuation(clean_text)\n",
    "            clean_text = stopword_remove_func(clean_text)\n",
    "            word_tokens = word_tokens_func(clean_text)\n",
    "            for i in word_tokens:\n",
    "                word_list.append(i)\n",
    "        return \" \".join(word_list)"
   ]
  },
  {
   "cell_type": "code",
   "execution_count": 11,
   "id": "7ad4ddd7",
   "metadata": {},
   "outputs": [],
   "source": [
    "sample_data = main_df_new['combined data']\n",
    "sample_data = sample_data.apply(preprocess)\n",
    "sample_data_new=main_df['Solution']\n",
    "sample_data_new = sample_data_new.apply(preprocess)\n",
    "main_df_new['preprocessed combined data'] = sample_data\n",
    "main_df['Solution']=sample_data"
   ]
  },
  {
   "cell_type": "code",
   "execution_count": 12,
   "id": "457da683",
   "metadata": {},
   "outputs": [
    {
     "data": {
      "text/html": [
       "<div>\n",
       "<style scoped>\n",
       "    .dataframe tbody tr th:only-of-type {\n",
       "        vertical-align: middle;\n",
       "    }\n",
       "\n",
       "    .dataframe tbody tr th {\n",
       "        vertical-align: top;\n",
       "    }\n",
       "\n",
       "    .dataframe thead th {\n",
       "        text-align: right;\n",
       "    }\n",
       "</style>\n",
       "<table border=\"1\" class=\"dataframe\">\n",
       "  <thead>\n",
       "    <tr style=\"text-align: right;\">\n",
       "      <th></th>\n",
       "      <th>combined data</th>\n",
       "      <th>preprocessed combined data</th>\n",
       "    </tr>\n",
       "  </thead>\n",
       "  <tbody>\n",
       "    <tr>\n",
       "      <th>0</th>\n",
       "      <td>Not able to receive the files through Pinmaile...</td>\n",
       "      <td>able receive file pinmailer sftp able receive ...</td>\n",
       "    </tr>\n",
       "    <tr>\n",
       "      <th>1</th>\n",
       "      <td>FTP setup in mac system FTP setup in mac system.</td>\n",
       "      <td>ftp setup mac system ftp setup mac system</td>\n",
       "    </tr>\n",
       "    <tr>\n",
       "      <th>2</th>\n",
       "      <td>Data not received through SFTP Dear Sir,    Da...</td>\n",
       "      <td>data received sftp dear sir data received sftp...</td>\n",
       "    </tr>\n",
       "    <tr>\n",
       "      <th>3</th>\n",
       "      <td>Sftp Client installation Need to install SFTP ...</td>\n",
       "      <td>sftp client installation need install sftp cli...</td>\n",
       "    </tr>\n",
       "    <tr>\n",
       "      <th>4</th>\n",
       "      <td>Require Dataprep SFTP and Bluedart site Blue d...</td>\n",
       "      <td>require dataprep sftp bluedart site blue dart ...</td>\n",
       "    </tr>\n",
       "  </tbody>\n",
       "</table>\n",
       "</div>"
      ],
      "text/plain": [
       "                                       combined data  \\\n",
       "0  Not able to receive the files through Pinmaile...   \n",
       "1   FTP setup in mac system FTP setup in mac system.   \n",
       "2  Data not received through SFTP Dear Sir,    Da...   \n",
       "3  Sftp Client installation Need to install SFTP ...   \n",
       "4  Require Dataprep SFTP and Bluedart site Blue d...   \n",
       "\n",
       "                          preprocessed combined data  \n",
       "0  able receive file pinmailer sftp able receive ...  \n",
       "1          ftp setup mac system ftp setup mac system  \n",
       "2  data received sftp dear sir data received sftp...  \n",
       "3  sftp client installation need install sftp cli...  \n",
       "4  require dataprep sftp bluedart site blue dart ...  "
      ]
     },
     "execution_count": 12,
     "metadata": {},
     "output_type": "execute_result"
    }
   ],
   "source": [
    "main_df_new.to_csv(\"Preprocessed_data.csv\",index=False)\n",
    "main_df_new.head()"
   ]
  },
  {
   "cell_type": "code",
   "execution_count": 13,
   "id": "8d25454d",
   "metadata": {},
   "outputs": [
    {
     "data": {
      "text/html": [
       "<div>\n",
       "<style scoped>\n",
       "    .dataframe tbody tr th:only-of-type {\n",
       "        vertical-align: middle;\n",
       "    }\n",
       "\n",
       "    .dataframe tbody tr th {\n",
       "        vertical-align: top;\n",
       "    }\n",
       "\n",
       "    .dataframe thead th {\n",
       "        text-align: right;\n",
       "    }\n",
       "</style>\n",
       "<table border=\"1\" class=\"dataframe\">\n",
       "  <thead>\n",
       "    <tr style=\"text-align: right;\">\n",
       "      <th></th>\n",
       "      <th>Solution</th>\n",
       "      <th>combined data</th>\n",
       "      <th>preprocessed combined data</th>\n",
       "    </tr>\n",
       "  </thead>\n",
       "  <tbody>\n",
       "    <tr>\n",
       "      <th>0</th>\n",
       "      <td>able receive file pinmailer sftp able receive ...</td>\n",
       "      <td>Not able to receive the files through Pinmaile...</td>\n",
       "      <td>able receive file pinmailer sftp able receive ...</td>\n",
       "    </tr>\n",
       "    <tr>\n",
       "      <th>1</th>\n",
       "      <td>ftp setup mac system ftp setup mac system</td>\n",
       "      <td>FTP setup in mac system FTP setup in mac system.</td>\n",
       "      <td>ftp setup mac system ftp setup mac system</td>\n",
       "    </tr>\n",
       "    <tr>\n",
       "      <th>2</th>\n",
       "      <td>data received sftp dear sir data received sftp...</td>\n",
       "      <td>Data not received through SFTP Dear Sir,    Da...</td>\n",
       "      <td>data received sftp dear sir data received sftp...</td>\n",
       "    </tr>\n",
       "    <tr>\n",
       "      <th>3</th>\n",
       "      <td>sftp client installation need install sftp cli...</td>\n",
       "      <td>Sftp Client installation Need to install SFTP ...</td>\n",
       "      <td>sftp client installation need install sftp cli...</td>\n",
       "    </tr>\n",
       "    <tr>\n",
       "      <th>4</th>\n",
       "      <td>require dataprep sftp bluedart site blue dart ...</td>\n",
       "      <td>Require Dataprep SFTP and Bluedart site Blue d...</td>\n",
       "      <td>require dataprep sftp bluedart site blue dart ...</td>\n",
       "    </tr>\n",
       "    <tr>\n",
       "      <th>...</th>\n",
       "      <td>...</td>\n",
       "      <td>...</td>\n",
       "      <td>...</td>\n",
       "    </tr>\n",
       "    <tr>\n",
       "      <th>8035</th>\n",
       "      <td>system hanging slow system gradation system sl...</td>\n",
       "      <td>System Hanging &amp; Slow - System OS up gradation...</td>\n",
       "      <td>system hanging slow system gradation system sl...</td>\n",
       "    </tr>\n",
       "    <tr>\n",
       "      <th>8036</th>\n",
       "      <td>wfh laptop slow processing hanging multitaskin...</td>\n",
       "      <td>MY WFH LAPTOP SLOW PROCESSING AND HANGING WHIL...</td>\n",
       "      <td>wfh laptop slow processing hanging multitaskin...</td>\n",
       "    </tr>\n",
       "    <tr>\n",
       "      <th>8037</th>\n",
       "      <td>unit vault pc slow getting hang hi team please...</td>\n",
       "      <td>Unit-9 Vault PC is very slow and getting hang ...</td>\n",
       "      <td>unit vault pc slow getting hang hi team please...</td>\n",
       "    </tr>\n",
       "    <tr>\n",
       "      <th>8038</th>\n",
       "      <td>system hanging able work system hanging able work</td>\n",
       "      <td>system hanging not able to work system hanging...</td>\n",
       "      <td>system hanging able work system hanging able work</td>\n",
       "    </tr>\n",
       "    <tr>\n",
       "      <th>8039</th>\n",
       "      <td>laptop hang frequently interrupt working lapto...</td>\n",
       "      <td>Laptop hangs frequently and interrupts working...</td>\n",
       "      <td>laptop hang frequently interrupt working lapto...</td>\n",
       "    </tr>\n",
       "  </tbody>\n",
       "</table>\n",
       "<p>8040 rows × 3 columns</p>\n",
       "</div>"
      ],
      "text/plain": [
       "                                               Solution  \\\n",
       "0     able receive file pinmailer sftp able receive ...   \n",
       "1             ftp setup mac system ftp setup mac system   \n",
       "2     data received sftp dear sir data received sftp...   \n",
       "3     sftp client installation need install sftp cli...   \n",
       "4     require dataprep sftp bluedart site blue dart ...   \n",
       "...                                                 ...   \n",
       "8035  system hanging slow system gradation system sl...   \n",
       "8036  wfh laptop slow processing hanging multitaskin...   \n",
       "8037  unit vault pc slow getting hang hi team please...   \n",
       "8038  system hanging able work system hanging able work   \n",
       "8039  laptop hang frequently interrupt working lapto...   \n",
       "\n",
       "                                          combined data  \\\n",
       "0     Not able to receive the files through Pinmaile...   \n",
       "1      FTP setup in mac system FTP setup in mac system.   \n",
       "2     Data not received through SFTP Dear Sir,    Da...   \n",
       "3     Sftp Client installation Need to install SFTP ...   \n",
       "4     Require Dataprep SFTP and Bluedart site Blue d...   \n",
       "...                                                 ...   \n",
       "8035  System Hanging & Slow - System OS up gradation...   \n",
       "8036  MY WFH LAPTOP SLOW PROCESSING AND HANGING WHIL...   \n",
       "8037  Unit-9 Vault PC is very slow and getting hang ...   \n",
       "8038  system hanging not able to work system hanging...   \n",
       "8039  Laptop hangs frequently and interrupts working...   \n",
       "\n",
       "                             preprocessed combined data  \n",
       "0     able receive file pinmailer sftp able receive ...  \n",
       "1             ftp setup mac system ftp setup mac system  \n",
       "2     data received sftp dear sir data received sftp...  \n",
       "3     sftp client installation need install sftp cli...  \n",
       "4     require dataprep sftp bluedart site blue dart ...  \n",
       "...                                                 ...  \n",
       "8035  system hanging slow system gradation system sl...  \n",
       "8036  wfh laptop slow processing hanging multitaskin...  \n",
       "8037  unit vault pc slow getting hang hi team please...  \n",
       "8038  system hanging able work system hanging able work  \n",
       "8039  laptop hang frequently interrupt working lapto...  \n",
       "\n",
       "[8040 rows x 3 columns]"
      ]
     },
     "execution_count": 13,
     "metadata": {},
     "output_type": "execute_result"
    }
   ],
   "source": [
    "df_all_rows = pd.concat([main_df['Solution'],main_df_new],axis=1)\n",
    "df_all_rows"
   ]
  },
  {
   "cell_type": "code",
   "execution_count": 14,
   "id": "e08f0107",
   "metadata": {},
   "outputs": [],
   "source": [
    "df_all_rows.to_csv(\"Preprocessed__data.csv\",index=False)"
   ]
  },
  {
   "cell_type": "code",
   "execution_count": 15,
   "id": "9b59e510",
   "metadata": {},
   "outputs": [
    {
     "data": {
      "text/plain": [
       "0       able receive file pinmailer sftp able receive ...\n",
       "1               ftp setup mac system ftp setup mac system\n",
       "2       data received sftp dear sir data received sftp...\n",
       "3       sftp client installation need install sftp cli...\n",
       "4       require dataprep sftp bluedart site blue dart ...\n",
       "                              ...                        \n",
       "8035    system hanging slow system gradation system sl...\n",
       "8036    wfh laptop slow processing hanging multitaskin...\n",
       "8037    unit vault pc slow getting hang hi team please...\n",
       "8038    system hanging able work system hanging able work\n",
       "8039    laptop hang frequently interrupt working lapto...\n",
       "Name: preprocessed combined data, Length: 8040, dtype: object"
      ]
     },
     "execution_count": 15,
     "metadata": {},
     "output_type": "execute_result"
    }
   ],
   "source": [
    "main_df_new['preprocessed combined data']"
   ]
  },
  {
   "cell_type": "code",
   "execution_count": 16,
   "id": "9ab8bcf2",
   "metadata": {
    "scrolled": true
   },
   "outputs": [],
   "source": [
    "from sentence_transformers import SentenceTransformer\n",
    "model = SentenceTransformer('all-MiniLM-L6-v2')"
   ]
  },
  {
   "cell_type": "code",
   "execution_count": 28,
   "id": "e69694cf",
   "metadata": {},
   "outputs": [],
   "source": [
    "sentences=main_df_new['preprocessed combined data'].values.tolist()\n",
    "sentence_embeddings = np.array(model.encode(sentences))"
   ]
  },
  {
   "cell_type": "code",
   "execution_count": 31,
   "id": "13e8d24a",
   "metadata": {},
   "outputs": [
    {
     "name": "stdout",
     "output_type": "stream",
     "text": [
      "Enter Query : network\n"
     ]
    },
    {
     "ename": "AxisError",
     "evalue": "axis 1 is out of bounds for array of dimension 1",
     "output_type": "error",
     "traceback": [
      "\u001b[1;31m---------------------------------------------------------------------------\u001b[0m",
      "\u001b[1;31mAxisError\u001b[0m                                 Traceback (most recent call last)",
      "\u001b[1;32m~\\AppData\\Local\\Temp/ipykernel_1880/1339933005.py\u001b[0m in \u001b[0;36m<module>\u001b[1;34m\u001b[0m\n\u001b[0;32m      7\u001b[0m \u001b[0mcosine\u001b[0m\u001b[1;33m=\u001b[0m\u001b[1;33m[\u001b[0m\u001b[1;33m]\u001b[0m\u001b[1;33m\u001b[0m\u001b[1;33m\u001b[0m\u001b[0m\n\u001b[0;32m      8\u001b[0m \u001b[1;32mfor\u001b[0m \u001b[0mi\u001b[0m \u001b[1;32min\u001b[0m \u001b[0msentence_embeddings\u001b[0m\u001b[1;33m:\u001b[0m\u001b[1;33m\u001b[0m\u001b[1;33m\u001b[0m\u001b[0m\n\u001b[1;32m----> 9\u001b[1;33m     \u001b[0mcosine\u001b[0m\u001b[1;33m.\u001b[0m\u001b[0mappend\u001b[0m\u001b[1;33m(\u001b[0m\u001b[0mnp\u001b[0m\u001b[1;33m.\u001b[0m\u001b[0mdot\u001b[0m\u001b[1;33m(\u001b[0m\u001b[0mi\u001b[0m\u001b[1;33m,\u001b[0m\u001b[0mintext_embedding\u001b[0m\u001b[1;33m)\u001b[0m\u001b[1;33m/\u001b[0m\u001b[1;33m(\u001b[0m\u001b[0mnorm\u001b[0m\u001b[1;33m(\u001b[0m\u001b[0mi\u001b[0m\u001b[1;33m,\u001b[0m\u001b[0maxis\u001b[0m\u001b[1;33m=\u001b[0m\u001b[1;36m1\u001b[0m\u001b[1;33m)\u001b[0m\u001b[1;33m*\u001b[0m\u001b[0mnorm\u001b[0m\u001b[1;33m(\u001b[0m\u001b[0mintext_embedding\u001b[0m\u001b[1;33m)\u001b[0m\u001b[1;33m)\u001b[0m\u001b[1;33m)\u001b[0m\u001b[1;33m\u001b[0m\u001b[1;33m\u001b[0m\u001b[0m\n\u001b[0m\u001b[0;32m     10\u001b[0m \u001b[0mineee\u001b[0m\u001b[1;33m=\u001b[0m\u001b[0mcosine\u001b[0m\u001b[1;33m.\u001b[0m\u001b[0mindex\u001b[0m\u001b[1;33m(\u001b[0m\u001b[0mmax\u001b[0m\u001b[1;33m(\u001b[0m\u001b[0mcosine\u001b[0m\u001b[1;33m)\u001b[0m\u001b[1;33m)\u001b[0m\u001b[1;33m\u001b[0m\u001b[1;33m\u001b[0m\u001b[0m\n\u001b[0;32m     11\u001b[0m \u001b[0mprint\u001b[0m\u001b[1;33m(\u001b[0m\u001b[0mmain_df\u001b[0m\u001b[1;33m[\u001b[0m\u001b[1;34m'solution'\u001b[0m\u001b[1;33m]\u001b[0m\u001b[1;33m[\u001b[0m\u001b[0mineee\u001b[0m\u001b[1;33m]\u001b[0m\u001b[1;33m)\u001b[0m\u001b[1;33m\u001b[0m\u001b[1;33m\u001b[0m\u001b[0m\n",
      "\u001b[1;32m<__array_function__ internals>\u001b[0m in \u001b[0;36mnorm\u001b[1;34m(*args, **kwargs)\u001b[0m\n",
      "\u001b[1;32mC:\\ProgramData\\Anaconda3\\lib\\site-packages\\numpy\\linalg\\linalg.py\u001b[0m in \u001b[0;36mnorm\u001b[1;34m(x, ord, axis, keepdims)\u001b[0m\n\u001b[0;32m   2558\u001b[0m             \u001b[1;31m# special case for speedup\u001b[0m\u001b[1;33m\u001b[0m\u001b[1;33m\u001b[0m\u001b[0m\n\u001b[0;32m   2559\u001b[0m             \u001b[0ms\u001b[0m \u001b[1;33m=\u001b[0m \u001b[1;33m(\u001b[0m\u001b[0mx\u001b[0m\u001b[1;33m.\u001b[0m\u001b[0mconj\u001b[0m\u001b[1;33m(\u001b[0m\u001b[1;33m)\u001b[0m \u001b[1;33m*\u001b[0m \u001b[0mx\u001b[0m\u001b[1;33m)\u001b[0m\u001b[1;33m.\u001b[0m\u001b[0mreal\u001b[0m\u001b[1;33m\u001b[0m\u001b[1;33m\u001b[0m\u001b[0m\n\u001b[1;32m-> 2560\u001b[1;33m             \u001b[1;32mreturn\u001b[0m \u001b[0msqrt\u001b[0m\u001b[1;33m(\u001b[0m\u001b[0madd\u001b[0m\u001b[1;33m.\u001b[0m\u001b[0mreduce\u001b[0m\u001b[1;33m(\u001b[0m\u001b[0ms\u001b[0m\u001b[1;33m,\u001b[0m \u001b[0maxis\u001b[0m\u001b[1;33m=\u001b[0m\u001b[0maxis\u001b[0m\u001b[1;33m,\u001b[0m \u001b[0mkeepdims\u001b[0m\u001b[1;33m=\u001b[0m\u001b[0mkeepdims\u001b[0m\u001b[1;33m)\u001b[0m\u001b[1;33m)\u001b[0m\u001b[1;33m\u001b[0m\u001b[1;33m\u001b[0m\u001b[0m\n\u001b[0m\u001b[0;32m   2561\u001b[0m         \u001b[1;31m# None of the str-type keywords for ord ('fro', 'nuc')\u001b[0m\u001b[1;33m\u001b[0m\u001b[1;33m\u001b[0m\u001b[0m\n\u001b[0;32m   2562\u001b[0m         \u001b[1;31m# are valid for vectors\u001b[0m\u001b[1;33m\u001b[0m\u001b[1;33m\u001b[0m\u001b[0m\n",
      "\u001b[1;31mAxisError\u001b[0m: axis 1 is out of bounds for array of dimension 1"
     ]
    }
   ],
   "source": [
    "import numpy as np\n",
    "from numpy.linalg import norm\n",
    "intext=input(\"Enter Query : \")\n",
    "intext=preprocess(intext)\n",
    "intext_embedding=np.array(model.encode([intext]))\n",
    "intext_embedding=np.transpose(intext_embedding)\n",
    "cosine=[]\n",
    "for i in sentence_embeddings:\n",
    "    cosine.append(np.dot(i,intext_embedding)/(norm(i,axis=1)*norm(intext_embedding)))\n",
    "ineee=cosine.index(max(cosine))\n",
    "print(main_df['solution'][ineee])"
   ]
  },
  {
   "cell_type": "code",
   "execution_count": 53,
   "id": "2f9ca6d3",
   "metadata": {},
   "outputs": [
    {
     "name": "stdout",
     "output_type": "stream",
     "text": [
      "Enter Query : laptop hang\n"
     ]
    },
    {
     "data": {
      "text/plain": [
       "'Repair or reinstall problematic apps.'"
      ]
     },
     "execution_count": 53,
     "metadata": {},
     "output_type": "execute_result"
    }
   ],
   "source": [
    "import numpy as np\n",
    "intext=input(\"Enter Query : \")\n",
    "intext=preprocess(intext)\n",
    "intext_embedding=np.transpose(np.array(model.encode([intext])))\n",
    "cosine=np.dot(sentence_embeddings,intext_embedding)/(norm(sentence_embeddings,axis=1)*norm(intext_embedding))\n",
    "index = np.where(cosine == np.amax(cosine))\n",
    "index=list(index[0])\n",
    "meowdf=pd.read_excel(r'C:\\Users\\DELL\\OneDrive\\Desktop\\Internship\\df_withoutdup_final_origi1.xlsx')\n",
    "meowdf['Solution'][index[0]]"
   ]
  },
  {
   "cell_type": "code",
   "execution_count": null,
   "id": "d993f31e",
   "metadata": {},
   "outputs": [],
   "source": []
  }
 ],
 "metadata": {
  "kernelspec": {
   "display_name": "Python 3 (ipykernel)",
   "language": "python",
   "name": "python3"
  },
  "language_info": {
   "codemirror_mode": {
    "name": "ipython",
    "version": 3
   },
   "file_extension": ".py",
   "mimetype": "text/x-python",
   "name": "python",
   "nbconvert_exporter": "python",
   "pygments_lexer": "ipython3",
   "version": "3.9.7"
  }
 },
 "nbformat": 4,
 "nbformat_minor": 5
}
